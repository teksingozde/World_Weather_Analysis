{
 "cells": [
  {
   "cell_type": "code",
   "execution_count": 5,
   "id": "f07fa84b",
   "metadata": {},
   "outputs": [],
   "source": [
    "import random"
   ]
  },
  {
   "cell_type": "code",
   "execution_count": 6,
   "id": "bffea952",
   "metadata": {},
   "outputs": [
    {
     "data": {
      "text/plain": [
       "-60"
      ]
     },
     "execution_count": 6,
     "metadata": {},
     "output_type": "execute_result"
    }
   ],
   "source": [
    "#Random Randint Function\n",
    "random.randint(-90,90)"
   ]
  },
  {
   "cell_type": "code",
   "execution_count": 7,
   "id": "695d926e",
   "metadata": {},
   "outputs": [
    {
     "data": {
      "text/plain": [
       "0.5115935133836216"
      ]
     },
     "execution_count": 7,
     "metadata": {},
     "output_type": "execute_result"
    }
   ],
   "source": [
    "random.random()"
   ]
  },
  {
   "cell_type": "code",
   "execution_count": 11,
   "id": "f767cc57",
   "metadata": {},
   "outputs": [
    {
     "data": {
      "text/plain": [
       "50.53872084574655"
      ]
     },
     "execution_count": 11,
     "metadata": {},
     "output_type": "execute_result"
    }
   ],
   "source": [
    "random_number = random.randint(-90, 89) + random.random()\n",
    "random_number"
   ]
  },
  {
   "cell_type": "code",
   "execution_count": 12,
   "id": "4f9ef2ef",
   "metadata": {},
   "outputs": [],
   "source": [
    "x = 1\n",
    "latitudes = []\n",
    "while x < 11:\n",
    "    random_lat = random.randint(-90, 89) + random.random()\n",
    "    latitudes.append(random_lat)\n",
    "    x += 1"
   ]
  },
  {
   "cell_type": "code",
   "execution_count": 13,
   "id": "add41bbe",
   "metadata": {},
   "outputs": [
    {
     "data": {
      "text/plain": [
       "[-32.89932345528048,\n",
       " -6.019334654291873,\n",
       " -64.04749220834334,\n",
       " 18.923503465036596,\n",
       " -49.97441511356732,\n",
       " 41.22804442873894,\n",
       " -88.58912891524773,\n",
       " -25.40549602548636,\n",
       " -62.25551050587525,\n",
       " -12.256555540914121]"
      ]
     },
     "execution_count": 13,
     "metadata": {},
     "output_type": "execute_result"
    }
   ],
   "source": [
    "latitudes"
   ]
  },
  {
   "cell_type": "code",
   "execution_count": 14,
   "id": "a06f5b00",
   "metadata": {},
   "outputs": [
    {
     "data": {
      "text/plain": [
       "34"
      ]
     },
     "execution_count": 14,
     "metadata": {},
     "output_type": "execute_result"
    }
   ],
   "source": [
    "#Random Randrange Function\n",
    "random.randrange(-90, 90, step= 1)"
   ]
  },
  {
   "cell_type": "code",
   "execution_count": 15,
   "id": "e21fd6f3",
   "metadata": {},
   "outputs": [
    {
     "data": {
      "text/plain": [
       "-3"
      ]
     },
     "execution_count": 15,
     "metadata": {},
     "output_type": "execute_result"
    }
   ],
   "source": [
    "random.randrange(-90, 90, step= 3)"
   ]
  },
  {
   "cell_type": "code",
   "execution_count": 16,
   "id": "c52e6640",
   "metadata": {},
   "outputs": [
    {
     "data": {
      "text/plain": [
       "-59.492561220205445"
      ]
     },
     "execution_count": 16,
     "metadata": {},
     "output_type": "execute_result"
    }
   ],
   "source": [
    "# Uniform Function\n",
    "random.uniform(-90, 90)"
   ]
  },
  {
   "cell_type": "code",
   "execution_count": 17,
   "id": "772f769f",
   "metadata": {},
   "outputs": [],
   "source": [
    "#Import the NumPy Module\n",
    "import numpy as np"
   ]
  },
  {
   "cell_type": "code",
   "execution_count": 18,
   "id": "d3f481d7",
   "metadata": {},
   "outputs": [
    {
     "data": {
      "text/plain": [
       "34.63650946641211"
      ]
     },
     "execution_count": 18,
     "metadata": {},
     "output_type": "execute_result"
    }
   ],
   "source": [
    "np.random.uniform(-90.000, 90.000)"
   ]
  },
  {
   "cell_type": "code",
   "execution_count": 19,
   "id": "c0d14cb6",
   "metadata": {},
   "outputs": [
    {
     "data": {
      "text/plain": [
       "-28.86948577849237"
      ]
     },
     "execution_count": 19,
     "metadata": {},
     "output_type": "execute_result"
    }
   ],
   "source": [
    "np.random.uniform(low= -90, high= 90)"
   ]
  },
  {
   "cell_type": "code",
   "execution_count": 20,
   "id": "b26f4ebe",
   "metadata": {},
   "outputs": [
    {
     "data": {
      "text/plain": [
       "array([ 67.00980892,  62.81804656,  24.90708282, -89.99649841,\n",
       "       -43.44790473, -12.2576035 , -10.4327576 , -70.31095625,\n",
       "       -40.37703158,  15.00849378, -21.20370832, -24.39269304,\n",
       "         6.0166187 ,  29.33812757, -82.76486713, -21.84067   ,\n",
       "       -79.28358148, -85.00412313,   2.22226005,   1.08494552,\n",
       "       -77.45332076,  52.79709179, -55.60897876,  67.12267385,\n",
       "       -76.82758189,   1.01752341, -32.0336446 ,  61.92348388,\n",
       "        86.84218615, -26.72040732,   3.7743917 ,  18.29424892,\n",
       "       -36.4165561 , -86.29542693,  86.27581031,  83.79555486,\n",
       "       -70.56882387, -13.80554502,  25.10215135,  35.7085027 ,\n",
       "       -86.75150042,  46.09769794, -49.08743434,  49.50703666,\n",
       "        39.39317974, -12.52904874,  85.45809817, -30.58956309,\n",
       "        33.28876958,  78.72039086])"
      ]
     },
     "execution_count": 20,
     "metadata": {},
     "output_type": "execute_result"
    }
   ],
   "source": [
    "np.random.uniform(-90.000, 90.000, size=50)"
   ]
  },
  {
   "cell_type": "code",
   "execution_count": 21,
   "id": "2e78e9d5",
   "metadata": {},
   "outputs": [],
   "source": [
    "# Import timeit.\n",
    "import timeit"
   ]
  },
  {
   "cell_type": "code",
   "execution_count": 22,
   "id": "949eb207",
   "metadata": {},
   "outputs": [
    {
     "name": "stdout",
     "output_type": "stream",
     "text": [
      "20.2 µs ± 1.4 µs per loop (mean ± std. dev. of 7 runs, 100,000 loops each)\n"
     ]
    }
   ],
   "source": [
    "%timeit np.random.uniform(-90.000, 90.000, size=1500)"
   ]
  },
  {
   "cell_type": "code",
   "execution_count": 23,
   "id": "b2899141",
   "metadata": {},
   "outputs": [
    {
     "name": "stdout",
     "output_type": "stream",
     "text": [
      "1.8 ms ± 14.8 µs per loop (mean ± std. dev. of 7 runs, 1,000 loops each)\n"
     ]
    }
   ],
   "source": [
    "def latitudes(size):\n",
    "    latitudes = []\n",
    "    x = 0\n",
    "    while x < (size):\n",
    "        random_lat = random.randint(-90, 90) + random.random()\n",
    "        latitudes.append(random_lat)\n",
    "        x += 1\n",
    "    return latitudes\n",
    "# Call the function with 1500.\n",
    "%timeit latitudes(1500)"
   ]
  }
 ],
 "metadata": {
  "kernelspec": {
   "display_name": "PythonData",
   "language": "python",
   "name": "pythondata"
  },
  "language_info": {
   "codemirror_mode": {
    "name": "ipython",
    "version": 3
   },
   "file_extension": ".py",
   "mimetype": "text/x-python",
   "name": "python",
   "nbconvert_exporter": "python",
   "pygments_lexer": "ipython3",
   "version": "3.9.12"
  }
 },
 "nbformat": 4,
 "nbformat_minor": 5
}
